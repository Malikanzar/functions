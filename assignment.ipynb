{
  "nbformat": 4,
  "nbformat_minor": 0,
  "metadata": {
    "colab": {
      "provenance": []
    },
    "kernelspec": {
      "name": "python3",
      "display_name": "Python 3"
    },
    "language_info": {
      "name": "python"
    }
  },
  "cells": [
    {
      "cell_type": "markdown",
      "source": [
        "# fuctions"
      ],
      "metadata": {
        "id": "fKsmIfD-YKQw"
      }
    },
    {
      "cell_type": "markdown",
      "source": [
        "# what are the differnce between israel and iran\n",
        "- israel and iran are two neighbours countries who fought for last 4 decades in the conflict"
      ],
      "metadata": {
        "id": "13MPxalmYzWE"
      }
    },
    {
      "cell_type": "code",
      "execution_count": null,
      "metadata": {
        "id": "YnF-Br44YE7s"
      },
      "outputs": [],
      "source": []
    },
    {
      "cell_type": "code",
      "source": [],
      "metadata": {
        "id": "SZ70FZBWZYzq"
      },
      "execution_count": null,
      "outputs": []
    }
  ]
}